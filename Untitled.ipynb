{
 "cells": [
  {
   "cell_type": "code",
   "execution_count": 2,
   "metadata": {},
   "outputs": [],
   "source": [
    "# %load Base_try.py\n",
    "import pandas as pd\n",
    "import numpy as np\n",
    "import matplotlib.pyplot as plt\n",
    "import os"
   ]
  },
  {
   "cell_type": "code",
   "execution_count": null,
   "metadata": {},
   "outputs": [],
   "source": [
    "pd.set_option('display.max_rows',None)\n",
    "pd.set_option('display.max_columns',None)"
   ]
  },
  {
   "cell_type": "code",
   "execution_count": null,
   "metadata": {},
   "outputs": [],
   "source": [
    "#Setting the files location:\n",
    "os.chdir('/Users/praveenthenraj/Desktop/PycharmProjects/Trial/Kaggle/Competitions')"
   ]
  },
  {
   "cell_type": "code",
   "execution_count": null,
   "metadata": {},
   "outputs": [],
   "source": [
    "df=pd.read_csv('sales_train_validation.csv')\n",
    "df1=df.iloc[:,6:]\n",
    "print(df1.T)\n",
    "#df1=df.groupby(['item_id','dept_id','store_id'])[df.iloc[:,6:]].sum()\n",
    "#df1.to_csv('output2.csv')\n",
    "#df=df.iloc[:,1:]\n",
    "\n",
    "#Store level:\n",
    "#df1=df['store_id']\n",
    "#df2=df.iloc[:,6:]\n",
    "#df=pd.concat([df1,df2],axis=1)\n",
    "#df_s=df.groupby('store_id').sum(axis=1)\n",
    "#print(df1.head())\n",
    "#print(df[df['store_id']=='CA_1'].info())\n",
    "#print(df['item_id'].value_counts())\n",
    "#UPC level:\n",
    "#df3=df['item_id']\n",
    "#df4=df.iloc[:,6:]\n",
    "#df=pd.concat([df3,df4],axis=1)\n",
    "#df_u=df.groupby('item_id').sum(axis=1)\n",
    "#print(df_u.head())\n",
    "#df1.to_csv('output2.csv')\n",
    "#df_days=pd.DataFrame(df.iloc[:,6:])\n",
    "#print(df_days.head())\n"
   ]
  }
 ],
 "metadata": {
  "kernelspec": {
   "display_name": "Python 3",
   "language": "python",
   "name": "python3"
  },
  "language_info": {
   "codemirror_mode": {
    "name": "ipython",
    "version": 3
   },
   "file_extension": ".py",
   "mimetype": "text/x-python",
   "name": "python",
   "nbconvert_exporter": "python",
   "pygments_lexer": "ipython3",
   "version": "3.7.6"
  }
 },
 "nbformat": 4,
 "nbformat_minor": 4
}
